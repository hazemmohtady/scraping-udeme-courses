{
 "cells": [
  {
   "cell_type": "code",
   "execution_count": 1,
   "metadata": {},
   "outputs": [],
   "source": [
    "import requests\n",
    "from bs4 import BeautifulSoup\n",
    "from selenium import webdriver\n",
    "from selenium.webdriver.common.desired_capabilities import DesiredCapabilities\n",
    "import time\n",
    "\n",
    "\n"
   ]
  },
  {
   "cell_type": "code",
   "execution_count": 2,
   "metadata": {},
   "outputs": [],
   "source": [
    "def get_udeme_courses(i):\n",
    "    options = webdriver.ChromeOptions()\n",
    "    options.add_argument('headless')\n",
    "    capa = DesiredCapabilities.CHROME\n",
    "    capa[\"pageLoadStrategy\"] = \"none\"\n",
    "    driver = webdriver.Chrome(executable_path='D:\\ITI AI-pro\\chromedriver.exe')\n",
    "    driver.set_window_size(1440,900)\n",
    "    url='https://www.udemy.com/courses/development/?p='\n",
    "    driver.get(url+str(i))\n",
    "    time.sleep(15)\n",
    "\n",
    "    plain_text = driver.page_source\n",
    "    soup = BeautifulSoup(plain_text, 'html.parser')\n",
    "\n",
    "\n",
    "    x=soup.findAll('div',{\"class\": \"popper--popper--2r2To popper--popper-hover--3YydE\"})\n",
    "    x=x[1:]\n",
    "    driver.close()\n",
    "    return x\n"
   ]
  },
  {
   "cell_type": "code",
   "execution_count": 3,
   "metadata": {},
   "outputs": [],
   "source": [
    "udeme_courses=[]\n",
    "for i in range(1,20):\n",
    "    udeme_courses.append(get_udeme_courses(i))\n",
    "    "
   ]
  },
  {
   "cell_type": "code",
   "execution_count": 9,
   "metadata": {},
   "outputs": [
    {
     "data": {
      "text/plain": [
       "418"
      ]
     },
     "execution_count": 9,
     "metadata": {},
     "output_type": "execute_result"
    }
   ],
   "source": [
    "def flatten(t):\n",
    "    return [item for sublist in t for item in sublist]\n",
    "x=flatten(udeme_courses)\n",
    "len(x)"
   ]
  },
  {
   "cell_type": "code",
   "execution_count": null,
   "metadata": {},
   "outputs": [],
   "source": []
  }
 ],
 "metadata": {
  "kernelspec": {
   "display_name": "Python 3",
   "language": "python",
   "name": "python3"
  },
  "language_info": {
   "codemirror_mode": {
    "name": "ipython",
    "version": 3
   },
   "file_extension": ".py",
   "mimetype": "text/x-python",
   "name": "python",
   "nbconvert_exporter": "python",
   "pygments_lexer": "ipython3",
   "version": "3.8.5"
  }
 },
 "nbformat": 4,
 "nbformat_minor": 4
}
